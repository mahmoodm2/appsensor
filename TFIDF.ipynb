{
 "cells": [
  {
   "cell_type": "markdown",
   "metadata": {},
   "source": [
    "### To See the Results: \n",
    "    1-Scroll down to the end of the page in and select (by click) the cell after the \"Test the Results\". \n",
    "    2-Uncomment the desired statement (removing the # character)\n",
    "    3-  Press Ctrl+Enter and wait for some seconds\n"
   ]
  },
  {
   "cell_type": "code",
   "execution_count": 364,
   "metadata": {
    "collapsed": false
   },
   "outputs": [],
   "source": [
    "'''\n",
    "Created on Feb 21, 2017\n",
    "\n",
    "@author: mmoham12\n",
    "'''\n",
    "import csv\n",
    "import collections as c\n",
    "import math \n",
    "import operator\n",
    "import numpy as np\n",
    "import pandas as pd\n",
    "import collections as c\n",
    "from scipy import spatial"
   ]
  },
  {
   "cell_type": "markdown",
   "metadata": {},
   "source": [
    "### Reading raw data form the CSV files.\n"
   ]
  },
  {
   "cell_type": "code",
   "execution_count": 439,
   "metadata": {
    "collapsed": false
   },
   "outputs": [
    {
     "name": "stdout",
     "output_type": "stream",
     "text": [
      "264505\n",
      "94875\n"
     ]
    }
   ],
   "source": [
    "gUserID ='30838'\n",
    "basePath=\"\" #E:\\\\workspaces\\\\RecommSys_A2\\\\data\\\\\"\n",
    "tagsFile = basePath + \"movie-tags.csv\"\n",
    "titlesFile = basePath +\"movie-titles.csv\"\n",
    "ratingFile = basePath + \"ratings.csv\"\n",
    "\n",
    "reader = csv.reader( open(tagsFile,encoding=\"ISO-8859-1\"))\n",
    "items = list(reader)\n",
    "\n",
    "itemspd = pd.read_csv(tagsFile,encoding = 'iso-8859-1', header=None, index_col='movie', names=['movie' , 'tag'])\n",
    "\n",
    "reader = csv.reader( open(titlesFile,encoding=\"ISO-8859-1\"))\n",
    "titles = list(reader)\n",
    "reader = csv.reader( open(ratingFile,encoding=\"ISO-8859-1\"))\n",
    "\n",
    "#userID, movieID, rating\n",
    "ratings = list(reader)\n",
    "\n",
    "print(len(ratings))\n",
    "print (len(items))\n",
    "#print(items.l.oc[3916])\n"
   ]
  },
  {
   "cell_type": "markdown",
   "metadata": {},
   "source": [
    "### Calculating the TF for Movie Tags\n"
   ]
  },
  {
   "cell_type": "code",
   "execution_count": 440,
   "metadata": {
    "collapsed": false
   },
   "outputs": [
    {
     "name": "stdout",
     "output_type": "stream",
     "text": [
      "2495\n",
      "7.822044008185619\n"
     ]
    }
   ],
   "source": [
    "# item Vectors as a dictionary(like hashMaps in Java) : { movie1 :{ tag1 : count1 , tag2:count2 ,...} , movieID: ...}\n",
    "itemCounts={}\n",
    " \n",
    "# Document Vectro as a dictionary : { tag1:count1 , tag2:count2 ,...}\n",
    "docCount= {} \n",
    "\n",
    "\n",
    "# Calculating the document frequency\n",
    "# Stroing the length of the vectors in the last field as vectorLength\n",
    "\n",
    "for movie,tag in items:\n",
    "    if not tag in docCount:\n",
    "        docCount[tag]=0.0\n",
    "    \n",
    "    add=0\n",
    "    if not movie in itemCounts:\n",
    "        # tagVector = Tag Vector \n",
    "        tagVector={}\n",
    "        tagVector[tag]=1.0\n",
    "        \n",
    "        # Initial Length is 0. Will be computed later\n",
    "        #  tagVector[\"vectorLength\"] =0.0\n",
    "        \n",
    "        # if movie not exists in the dict before add a new one with \n",
    "        itemCounts[movie]={}\n",
    "        \n",
    "        # It is new tag for this movie so its count in the docFreq should be incremented\n",
    "        add=1\n",
    "        \n",
    "    else:\n",
    "        tagVector=itemCounts[movie]\n",
    "        \n",
    "        if not tag in itemCounts[movie]:           \n",
    "            tagVector[tag]=1.0\n",
    "            \n",
    "            # It is new tag for this movie so its count in the docFreq should be incremented\n",
    "            add=1\n",
    "            \n",
    "        else:            \n",
    "            tagVector[tag] = tagVector[tag]+1\n",
    "    \n",
    "    # List of tag vectors for this movie gets u_profilesdated\n",
    "    itemCounts[movie] =tagVector\n",
    "    \n",
    "    # The document frequency for this tag in the current movie.\n",
    "    docCount[tag] +=add        \n",
    "  \n",
    "logN = math.log(len(itemCounts))\n",
    "\n",
    "print (len(itemCounts))\n",
    "print(logN)\n"
   ]
  },
  {
   "cell_type": "markdown",
   "metadata": {},
   "source": [
    "### Calculating the IDF "
   ]
  },
  {
   "cell_type": "code",
   "execution_count": 441,
   "metadata": {
    "collapsed": false
   },
   "outputs": [
    {
     "name": "stdout",
     "output_type": "stream",
     "text": [
      "item 4==========================\n",
      "1.3987970446520999\n",
      "5.424148735387249\n",
      "3.814710822953148\n",
      "3.6025363030095123\n"
     ]
    }
   ],
   "source": [
    "# Calculating the final IDF values\n",
    "docFreq ={}\n",
    "for tag,count in docCount.items():\n",
    "    docFreq[tag]= logN - math.log(count)\n",
    "\n",
    "# Testing Item 4\n",
    "print('item 4==========================')       \n",
    "print( docFreq['CLV'])\n",
    "print( docFreq['characters'])\n",
    "print( docFreq['chick flick'])\n",
    "print( docFreq['revenge'])\n"
   ]
  },
  {
   "cell_type": "markdown",
   "metadata": {},
   "source": [
    "### Calcularing the TF-IDF"
   ]
  },
  {
   "cell_type": "code",
   "execution_count": 515,
   "metadata": {
    "collapsed": false
   },
   "outputs": [
    {
     "name": "stdout",
     "output_type": "stream",
     "text": [
      "13103\n"
     ]
    }
   ],
   "source": [
    "# Calculating the sum of the power of tf-idf of tags in tag vector of each movie and store it in vectorLength tag\n",
    "itemVectors = {}\n",
    "\n",
    "for movie,tagVector in itemCounts.items():\n",
    "    vectLen= 0.0\n",
    "    for tag,count in tagVector.items():\n",
    "            # TF-IDF = TF  * IDF. count = TF ,  docFreq[tag] = IDF\n",
    "            tfidf= count * docFreq[tag]  \n",
    "            \n",
    "            vectLen += math.pow(tfidf, 2)\n",
    "\n",
    "       \n",
    "    vectLen = math.sqrt(vectLen)  \n",
    "    \n",
    "    iv ={}\n",
    "    for tag,count in tagVector.items(): \n",
    "            # Calculating the normalized tf-idf \n",
    "            iv[tag] = count * docFreq[tag] / vectLen\n",
    "    \n",
    "    itemVectors[movie] = iv\n",
    "print(len(docFreq))\n",
    "\n",
    "def getItemVector(docID):\n",
    "    df=pd.DataFrame.from_dict(itemVectors, orient='index')\n",
    "\n",
    "    d=df.loc['2231']\n",
    "    d=d[d.notnull()]\n",
    "\n",
    "    d=pd.DataFrame(d)\n",
    "    d.columns=['value']\n",
    "\n",
    "    d.sort_values('value', axis=0,ascending=[False], inplace=True)\n",
    "    print(d)\n",
    "\n",
    "\n",
    "#df\n"
   ]
  },
  {
   "cell_type": "markdown",
   "metadata": {},
   "source": [
    "### Calculating the User User Profiles"
   ]
  },
  {
   "cell_type": "code",
   "execution_count": 503,
   "metadata": {
    "collapsed": false
   },
   "outputs": [],
   "source": [
    "#Building User Profile as { user1 :{ tag1: count1 , tag2:count2, ...} , userID:...}\n",
    "def buildUserProfiles(userID):\n",
    "    userProfiles={}\n",
    "\n",
    "    users = sorted(ratings, key= lambda x:x[0], reverse= False)\n",
    "\n",
    "    if userID !='':\n",
    "        users = [row for row in users if row[0] == userID]\n",
    "\n",
    "# Iterating over all user ratings and then the item vector for each move the user has rated\n",
    "    for user,movie,rate in users:\n",
    "    \n",
    "        if not user in userProfiles:\n",
    "            userTagVector={}                     \n",
    "            userProfiles[user]={}\n",
    "        \n",
    "        else:\n",
    "            userTagVector=userProfiles[user]\n",
    "        \n",
    "    # Selecting movies with rate over the 3.5\n",
    "        if float(rate) >= 3.5  and movie in itemVectors:\n",
    "        \n",
    "        # Iterating over the list of the item vectors for movies the current user rated. User Value = Sigma( tfidf) \n",
    "        # For all tags in the movie rated by the user\n",
    "            for tname, qt in itemVectors[movie].items():\n",
    "\n",
    "                if not tname in userTagVector:\n",
    "                    userTagVector[tname] = 0.0\n",
    "                \n",
    "                userTagVector[tname] += float(qt)\n",
    "\n",
    "        # userTagVector = list of tags of movie the current user( user) has rated: { tag1:score1 , tag2:score2, ...}\n",
    "            userProfiles[user]= userTagVector\n",
    "        \n",
    "    u=userProfiles[userID]\n",
    "    sorted_x = sorted(u.items(), key= lambda x:x[1], reverse= False)\n",
    "    #print( sorted_x)\n",
    "    \n",
    "    return userProfiles\n"
   ]
  },
  {
   "cell_type": "markdown",
   "metadata": {},
   "source": [
    "### A function to calculate Item Scores "
   ]
  },
  {
   "cell_type": "code",
   "execution_count": 404,
   "metadata": {
    "collapsed": false
   },
   "outputs": [],
   "source": [
    "def calculateScores( u_profiles, m_items, docID):\n",
    "    # Generating the Item Scores. Having User Profile and Movie tag vector what would be the score of the user for that movie\n",
    "    \n",
    "    m_itemscores={}\n",
    "    \n",
    "    # m_itemscores : { userID: { movie1:score1 , movie1:score2, ...} , user2: ...}\n",
    "     #Iterating over all user profiles for the current movie\n",
    "    for userID, userTagVector in u_profiles.items():\n",
    "          \n",
    "        if not userID in m_itemscores:\n",
    "            m_itemscores[userID]={}\n",
    "         \n",
    "        #P= list(userTagVector.values())\n",
    "        \n",
    "        # Iterating over Item vectors  to calculate the user m_itemscores for each Movie\n",
    "        for movieID,itemTagVector in m_items.items():     \n",
    "            \n",
    "           \n",
    "            if docID != '':\n",
    "                if movieID != docID:\n",
    "                    continue\n",
    "            \n",
    "            #Q =list(itemTagVector.values())\n",
    "            \n",
    "            \n",
    "            # List of user scores for the current movie. Each field of this list should be to be claculated using cosin \n",
    "            userScores = m_itemscores[userID]   \n",
    "            \n",
    "            p=ps=qs=0            \n",
    "            #result = 1 - spatial.distance.cosine(P , Q)\n",
    "            \n",
    "            qs=0.0\n",
    "            for tag1,count1 in itemTagVector.items():\n",
    "                qs += math.pow( count1,2)\n",
    "            \n",
    "            #print(qs)\n",
    "            for tag2,count2 in userTagVector.items():  \n",
    "\n",
    "                \n",
    "                # TFIDF of Item if the tag exists in the list of movie's tags\n",
    "                if tag2 in itemTagVector:\n",
    "                    qt=itemTagVector[tag2] \n",
    "                else:\n",
    "                    qt=0\n",
    "\n",
    "                # User Value for the current tag\n",
    "                pt= count2                \n",
    "                p += (pt * qt)                \n",
    "                ps += math.pow(pt,2)                \n",
    "                \n",
    "\n",
    "            # Calculating cosin score for each user/item pair\n",
    "            if ps <= 0.0 or qs <=0.0 :\n",
    "                score= 0.0\n",
    "            else:\n",
    "                score= p / (math.sqrt(ps) * math.sqrt(qs))\n",
    "            \n",
    "            #print(math.sqrt(qs))\n",
    "            #print(math.sqrt(ps))\n",
    "\n",
    "            # Updating user scores vector \n",
    "           \n",
    "                \n",
    "            userScores[movieID]= score\n",
    "            \n",
    "            #Updating the user scores vector for the current movie\n",
    "            m_itemscores[userID]= userScores   \n",
    "            \n",
    "    return m_itemscores"
   ]
  },
  {
   "cell_type": "code",
   "execution_count": 520,
   "metadata": {
    "collapsed": false
   },
   "outputs": [],
   "source": [
    "def getUserPredictions(userID):\n",
    "    up= buildUserProfiles(userID)\n",
    "    unweightedScores= calculateScores2(up, itemVectors ,'' )\n",
    "\n",
    "    u=list(unweightedScores.values())\n",
    "\n",
    "    sorted_x = sorted(u[0].items(), key= lambda x:x[1], reverse= True)\n",
    "    d=pd.DataFrame.from_records(sorted_x)\n",
    "    print(d)\n",
    "    "
   ]
  },
  {
   "cell_type": "code",
   "execution_count": 430,
   "metadata": {
    "collapsed": false
   },
   "outputs": [],
   "source": [
    "def buildWightedProfile(userID):   \n",
    "#Building User Profile as { user1 :{ tag1: count1 , tag2:count2} , userID:...}\n",
    "\n",
    "    weighted_profiles={}\n",
    "\n",
    "    users = sorted(ratings, key= lambda x:x[0], reverse= False)\n",
    "\n",
    "    if userID !='':\n",
    "        users = [row for row in users if row[0] == userID]\n",
    "   \n",
    "    # User rating average as { user1:av}\n",
    "    userAvg = {}\n",
    "\n",
    "    old=users[0][0]\n",
    "    avg=float(users[0][2])\n",
    "    count=1.0\n",
    "    for row in users:\n",
    "        if old != row[0]:\n",
    "        \n",
    "            userAvg[old] = avg\n",
    "        \n",
    "            avg=float(row[2])\n",
    "            count=1.0        \n",
    "            old= row[0]\n",
    "    \n",
    "        else:\n",
    "            avg = ((count * avg) + float(row[2]) ) / ( count + 1)\n",
    "            count +=1.0\n",
    "        \n",
    "    userAvg[old] = avg\n",
    "    \n",
    "     \n",
    "# Iterating over all user ratings and then the item vector for each move the user has rated   \n",
    "\n",
    "    for user,movie,rate in users:\n",
    "    \n",
    "        if not user in weightedu_profiles:\n",
    "            userTagVector={}                     \n",
    "            weightedu_profiles[user]={}\n",
    "        \n",
    "        else:\n",
    "            userTagVector=weightedu_profiles[user]\n",
    "    \n",
    "        if movie in itemVectors:\n",
    "        # Iterating over the list of the item vectors for movies the current user rated. User Value = Sigma( tfidf) \n",
    "            for tname, qt in itemVectors[movie].items():\n",
    "\n",
    "                if not tname in userTagVector:\n",
    "                    userTagVector[tname] = 0\n",
    "\n",
    "                #print(qt)\n",
    "                \n",
    "                userTagVector[tname] += qt * ( float(rate) - userAvg[user])\n",
    "\n",
    "        # userTagVector = list of tags of movie the current user( user) has rated: { tag1:score1 , tag2:score2, ...}\n",
    "            weighted_profiles[user]= userTagVector\n",
    "\n",
    "    #print( weightedu_profiles[gUserID])\n",
    "    return weighted_profiles"
   ]
  },
  {
   "cell_type": "code",
   "execution_count": 523,
   "metadata": {
    "collapsed": false
   },
   "outputs": [],
   "source": [
    "def getWeighUserPredictions(userID):\n",
    "    up= buildWightedProfile('320')\n",
    "#print(up)\n",
    "    weightedScores= calculateScores(up, itemVectors,'' )\n",
    "\n",
    "#print(weightedScores)\n",
    "    u=list(weightedScores.values())\n",
    "\n",
    "#print(u[0])\n",
    "    sorted_x = sorted(u[0].items(), key= lambda x:x[1], reverse= True)\n",
    "    d=pd.DataFrame.from_records(sorted_x)\n",
    "    print(d)\n",
    "#print(sorted_x)   "
   ]
  },
  {
   "cell_type": "markdown",
   "metadata": {},
   "source": [
    "### Test the Results"
   ]
  },
  {
   "cell_type": "code",
   "execution_count": 527,
   "metadata": {
    "collapsed": false
   },
   "outputs": [
    {
     "name": "stdout",
     "output_type": "stream",
     "text": [
      "                   value\n",
      "poker           0.597000\n",
      "Edward Norton   0.552893\n",
      "Matt Damon      0.315939\n",
      "John Turturro   0.260617\n",
      "gambling        0.245714\n",
      "John Malkovich  0.239701\n",
      "card games      0.125276\n",
      "John Dahl       0.114175\n",
      "cards           0.107681\n",
      "2.5             0.067883\n",
      "watched 2006    0.061096\n",
      "library vhs     0.060524\n"
     ]
    }
   ],
   "source": [
    "getItemVector('2231')\n",
    "#getUserPredictions('320')\n",
    "#getWeighUserPredictions('320')\n"
   ]
  }
 ],
 "metadata": {
  "celltoolbar": "Raw Cell Format",
  "kernelspec": {
   "display_name": "Python 3",
   "language": "python",
   "name": "python3"
  },
  "language_info": {
   "codemirror_mode": {
    "name": "ipython",
    "version": 3
   },
   "file_extension": ".py",
   "mimetype": "text/x-python",
   "name": "python",
   "nbconvert_exporter": "python",
   "pygments_lexer": "ipython3",
   "version": "3.6.0"
  }
 },
 "nbformat": 4,
 "nbformat_minor": 2
}
